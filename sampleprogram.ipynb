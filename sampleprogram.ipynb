{
  "nbformat": 4,
  "nbformat_minor": 0,
  "metadata": {
    "colab": {
      "name": "sampleprogram.ipynb",
      "provenance": [],
      "collapsed_sections": [],
      "authorship_tag": "ABX9TyPdnFOUDYtqmHpPAZ4Ol1GC",
      "include_colab_link": true
    },
    "kernelspec": {
      "name": "python3",
      "display_name": "Python 3"
    },
    "language_info": {
      "name": "python"
    }
  },
  "cells": [
    {
      "cell_type": "markdown",
      "metadata": {
        "id": "view-in-github",
        "colab_type": "text"
      },
      "source": [
        "<a href=\"https://colab.research.google.com/github/gokulganesh11/python-practice/blob/main/sampleprogram.ipynb\" target=\"_parent\"><img src=\"https://colab.research.google.com/assets/colab-badge.svg\" alt=\"Open In Colab\"/></a>"
      ]
    },
    {
      "cell_type": "markdown",
      "metadata": {
        "id": "yR0PBZ40rYAa"
      },
      "source": [
        "**To print letters and its occurence count to a given string **"
      ]
    },
    {
      "cell_type": "code",
      "metadata": {
        "id": "i-zoHhpyrExp"
      },
      "source": [
        "to_string=\"gokulganesh\"\n",
        "temp=\"\"\n",
        "for rule in to_string:\n",
        "  if rule not in temp:\n",
        "    print (rule, to_string.count(rule))\n",
        "    temp=temp+rule"
      ],
      "execution_count": null,
      "outputs": []
    },
    {
      "cell_type": "markdown",
      "metadata": {
        "id": "V-k1iMRwVemm"
      },
      "source": [
        "**fibonacci series**"
      ]
    },
    {
      "cell_type": "code",
      "metadata": {
        "id": "ngcz_UTfVsjw"
      },
      "source": [
        "num_1=0\n",
        "num_2=1\n",
        "for i in range(7):\n",
        "  num_3=num_1+num_2\n",
        "  print(num_1)\n",
        "  num_1=num_2\n",
        "  num_2=num_3"
      ],
      "execution_count": null,
      "outputs": []
    },
    {
      "cell_type": "markdown",
      "metadata": {
        "id": "QPDvGbSvWHzF"
      },
      "source": [
        "**comparing two lists and finding same list**"
      ]
    },
    {
      "cell_type": "code",
      "metadata": {
        "id": "6YbDAKw2WgM7"
      },
      "source": [
        "t1=[\"csk\",\"mi\",\"rr\",\"rcb\"]\n",
        "t2=[\"rcc\",\"vcc\",\"csk\",\"rcb\"]\n",
        "\n",
        "for x in t1: \n",
        "  for y in t2:\n",
        "      if x==y:\n",
        "        print(x)"
      ],
      "execution_count": null,
      "outputs": []
    }
  ]
}