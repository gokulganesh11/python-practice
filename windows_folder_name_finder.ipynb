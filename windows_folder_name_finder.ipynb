{
  "nbformat": 4,
  "nbformat_minor": 0,
  "metadata": {
    "colab": {
      "name": "windows_folder_name_finder.ipynb",
      "provenance": [],
      "collapsed_sections": [],
      "authorship_tag": "ABX9TyNyRIHD4qTh0mnvKoEF5KXT",
      "include_colab_link": true
    },
    "kernelspec": {
      "name": "python3",
      "display_name": "Python 3"
    },
    "language_info": {
      "name": "python"
    }
  },
  "cells": [
    {
      "cell_type": "markdown",
      "metadata": {
        "id": "view-in-github",
        "colab_type": "text"
      },
      "source": [
        "<a href=\"https://colab.research.google.com/github/gokulganesh11/python-practice/blob/main/windows_folder_name_finder.ipynb\" target=\"_parent\"><img src=\"https://colab.research.google.com/assets/colab-badge.svg\" alt=\"Open In Colab\"/></a>"
      ]
    },
    {
      "cell_type": "markdown",
      "metadata": {
        "id": "9mqZbrRsYdJm"
      },
      "source": [
        "**windows_folder_name_finder**"
      ]
    },
    {
      "cell_type": "code",
      "metadata": {
        "id": "38437KhnYiUQ"
      },
      "source": [
        "from tkinter import *\n",
        "from tkinter.filedialog import askdirectory\n",
        "from tkinter import Tk\n",
        "import os\n",
        "from pathlib import Path\n",
        "\n",
        "root=Tk() \n",
        "root.title(\"duplicate\")\n",
        "canvas1 = Canvas(root, width = 1000, height = 600) \n",
        "canvas1['bg']= \"light blue\"\n",
        "root.resizable(0,0)\n",
        "canvas1.pack()\n",
        "\n",
        "def path_1():\n",
        "    global control1\n",
        "    path = askdirectory(title=\"select a folder\")\n",
        "    control1=path\n",
        "\n",
        "def path_2():\n",
        "    for roots,dirs, files in os.walk(control1):\n",
        "        time1=roots\n",
        "        time2=dirs\n",
        "        time3=files\n",
        "        print(time1)\n",
        "\n",
        "btn1 = Button (root, text='source folder',command=path_1,height =1, width = 16,font = \"Verdana 12 bold\")\n",
        "canvas1.create_window(120,30, window=btn1)\n",
        "btn2 = Button (root, text='Find',command=path_2, height =1, width = 10,font = \"Verdana 12 bold\")\n",
        "canvas1.create_window(400,30, window=btn2)\n",
        "\n",
        "root.mainloop()"
      ],
      "execution_count": null,
      "outputs": []
    }
  ]
}